{
  "nbformat": 4,
  "nbformat_minor": 0,
  "metadata": {
    "colab": {
      "name": "Getting started with BigQuery - 29 May 2021",
      "provenance": [],
      "collapsed_sections": []
    },
    "kernelspec": {
      "display_name": "Python 3",
      "name": "python3"
    }
  },
  "cells": [
    {
      "cell_type": "markdown",
      "metadata": {
        "id": "KcAZ2RHCg_Ze"
      },
      "source": [
        "# Before you begin\n",
        "\n",
        "\n",
        "1.   Use the [Cloud Resource Manager](https://console.cloud.google.com/cloud-resource-manager) to Create a Cloud Platform project if you do not already have one.\n",
        "2.   [Enable billing](https://support.google.com/cloud/answer/6293499#enable-billing) for the project.\n",
        "3.   [Enable BigQuery](https://console.cloud.google.com/flows/enableapi?apiid=bigquery) APIs for the project.\n"
      ]
    },
    {
      "cell_type": "markdown",
      "metadata": {
        "id": "qTmLBxDxBAZL"
      },
      "source": [
        "### Provide your credentials to the runtime"
      ]
    },
    {
      "cell_type": "code",
      "metadata": {
        "id": "SeTJb51SKs_W"
      },
      "source": [
        "from google.colab import auth\n",
        "auth.authenticate_user()\n",
        "print('Authenticated')"
      ],
      "execution_count": null,
      "outputs": []
    },
    {
      "cell_type": "markdown",
      "metadata": {
        "id": "UMKGkkZEPVRu"
      },
      "source": [
        "## Optional: Enable data table display\n",
        "\n",
        "Colab includes the ``google.colab.data_table`` package that can be used to display large pandas dataframes as an interactive data table.\n",
        "It can be enabled with:"
      ]
    },
    {
      "cell_type": "code",
      "metadata": {
        "id": "LMNA-vBHPyHz"
      },
      "source": [
        "%load_ext google.colab.data_table"
      ],
      "execution_count": null,
      "outputs": []
    },
    {
      "cell_type": "markdown",
      "metadata": {
        "id": "y7QuudxdP0jH"
      },
      "source": [
        "If you would prefer to return to the classic Pandas dataframe display, you can disable this by running:\n",
        "```python\n",
        "%unload_ext google.colab.data_table\n",
        "```"
      ]
    },
    {
      "cell_type": "markdown",
      "metadata": {
        "id": "OHCBQv4uTCPc"
      },
      "source": [
        "# Use BigQuery via magics\n",
        "\n",
        "The `google.cloud.bigquery` library also includes a magic command which runs a query and either displays the result or saves it to a variable as a `DataFrame`."
      ]
    },
    {
      "cell_type": "code",
      "metadata": {
        "id": "DMxOKQ3vJplj"
      },
      "source": [
        "# Display query output immediately\n",
        "\n",
        "%%bigquery --project ml-demo-315108\n",
        "SELECT \n",
        "  COUNT(*) as total_rows\n",
        "FROM `bigquery-public-data.samples.gsod`"
      ],
      "execution_count": null,
      "outputs": []
    },
    {
      "cell_type": "code",
      "metadata": {
        "id": "cLh05lDpJ4wj"
      },
      "source": [
        "# Save output in a variable `df`\n",
        "\n",
        "%%bigquery --project ml-demo-315108 df\n",
        "SELECT \n",
        "  COUNT(*) as total_rows\n",
        "FROM `bigquery-public-data.samples.gsod`"
      ],
      "execution_count": null,
      "outputs": []
    },
    {
      "cell_type": "code",
      "metadata": {
        "id": "xgopBClCKs_0"
      },
      "source": [
        "df"
      ],
      "execution_count": null,
      "outputs": []
    },
    {
      "cell_type": "markdown",
      "metadata": {
        "id": "fkhbyGaXKs_6"
      },
      "source": [
        "# Use BigQuery through google-cloud-bigquery\n",
        "\n",
        "See [BigQuery documentation](https://cloud.google.com/bigquery/docs) and [library reference documentation](https://googlecloudplatform.github.io/google-cloud-python/latest/bigquery/usage.html).\n",
        "\n",
        "The [GSOD sample table](https://bigquery.cloud.google.com/table/bigquery-public-data:samples.gsod) contains weather information collected by NOAA, such as precipitation amounts and wind speeds from late 1929 to early 2010.\n"
      ]
    },
    {
      "cell_type": "markdown",
      "metadata": {
        "id": "goQQ96EDKs_7"
      },
      "source": [
        "### Declare the Cloud project ID which will be used throughout this notebook"
      ]
    },
    {
      "cell_type": "code",
      "metadata": {
        "id": "hWK0nJWgKs_8"
      },
      "source": [
        "project_id = 'ml-demo-315108'"
      ],
      "execution_count": null,
      "outputs": []
    },
    {
      "cell_type": "markdown",
      "metadata": {
        "id": "lK-9fSClKtAB"
      },
      "source": [
        "### Sample approximately 2000 random rows"
      ]
    },
    {
      "cell_type": "code",
      "metadata": {
        "id": "ONI1Xo0-KtAD"
      },
      "source": [
        "from google.cloud import bigquery\n",
        "\n",
        "client = bigquery.Client(project=project_id)\n",
        "\n",
        "sample_count = 2000\n",
        "row_count = client.query('''\n",
        "  SELECT \n",
        "    COUNT(*) as total\n",
        "  FROM `bigquery-public-data.samples.gsod`''').to_dataframe().total[0]\n",
        "\n",
        "df = client.query('''\n",
        "  SELECT\n",
        "    *\n",
        "  FROM\n",
        "    `bigquery-public-data.samples.gsod`\n",
        "  WHERE RAND() < %d/%d\n",
        "''' % (sample_count, row_count)).to_dataframe()\n",
        "\n",
        "print('Full dataset has %d rows' % row_count)"
      ],
      "execution_count": null,
      "outputs": []
    },
    {
      "cell_type": "markdown",
      "metadata": {
        "id": "Bu2C7iWMKtAM"
      },
      "source": [
        "### Describe the sampled data"
      ]
    },
    {
      "cell_type": "code",
      "metadata": {
        "id": "XrFmZBr9KtAN"
      },
      "source": [
        "df.describe()"
      ],
      "execution_count": null,
      "outputs": []
    },
    {
      "cell_type": "markdown",
      "metadata": {
        "id": "SVWFp6jIKtAa"
      },
      "source": [
        "### View the first 10 rows"
      ]
    },
    {
      "cell_type": "code",
      "metadata": {
        "id": "hEYIhPvAKtAd"
      },
      "source": [
        "df.head(10)"
      ],
      "execution_count": null,
      "outputs": []
    },
    {
      "cell_type": "code",
      "metadata": {
        "id": "1K7weAv6KtAq"
      },
      "source": [
        "# 10 highest total_precipitation samples\n",
        "df.sort_values('total_precipitation', ascending=False).head(10)[['station_number', 'year', 'month', 'day', 'total_precipitation']]"
      ],
      "execution_count": null,
      "outputs": []
    },
    {
      "cell_type": "markdown",
      "metadata": {
        "id": "oKNxsRvuKtAz"
      },
      "source": [
        "# Use BigQuery through pandas-gbq\n",
        "\n",
        "The `pandas-gbq` library is a community led project by the pandas community. It covers basic functionality, such as writing a DataFrame to BigQuery and running a query, but as a third-party library it may not handle all BigQuery features or use cases.\n",
        "\n",
        "[Pandas GBQ Documentation](https://pandas.pydata.org/pandas-docs/stable/generated/pandas.read_gbq.html)"
      ]
    },
    {
      "cell_type": "code",
      "metadata": {
        "id": "dWf7KIxjKtA0"
      },
      "source": [
        "import pandas as pd\n",
        "\n",
        "sample_count = 2000\n",
        "df = pd.io.gbq.read_gbq('''\n",
        "  SELECT name, SUM(number) as count\n",
        "  FROM `bigquery-public-data.usa_names.usa_1910_2013`\n",
        "  WHERE state = 'TX'\n",
        "  GROUP BY name\n",
        "  ORDER BY count DESC\n",
        "  LIMIT 100\n",
        "''', project_id=project_id, dialect='standard')\n",
        "\n",
        "df.head()"
      ],
      "execution_count": null,
      "outputs": []
    },
    {
      "cell_type": "markdown",
      "metadata": {
        "id": "vU5JcPLjcj4o"
      },
      "source": [
        "# Syntax highlighting\n",
        "`google.colab.syntax` can be used to add syntax highlighting to any Python string literals which are used in a query later."
      ]
    },
    {
      "cell_type": "code",
      "metadata": {
        "id": "q8kDqSYCczeM"
      },
      "source": [
        "from google.colab import syntax\n",
        "query = syntax.sql('''\n",
        "SELECT\n",
        "  COUNT(*) as total_rows\n",
        "FROM\n",
        "  `bigquery-public-data.samples.gsod`\n",
        "''')\n",
        "\n",
        "pd.io.gbq.read_gbq(query, project_id=project_id, dialect='standard')"
      ],
      "execution_count": null,
      "outputs": []
    },
    {
      "cell_type": "code",
      "metadata": {
        "id": "8DuoYUtPUXj1"
      },
      "source": [
        ""
      ],
      "execution_count": null,
      "outputs": []
    }
  ]
}