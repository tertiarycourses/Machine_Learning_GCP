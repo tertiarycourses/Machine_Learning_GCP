{
  "nbformat": 4,
  "nbformat_minor": 0,
  "metadata": {
    "colab": {
      "name": "Google Cloud Vision - 30 May 2021.ipynb",
      "provenance": [],
      "collapsed_sections": []
    },
    "kernelspec": {
      "display_name": "Python 3",
      "language": "python",
      "name": "python3"
    },
    "language_info": {
      "codemirror_mode": {
        "name": "ipython",
        "version": 3
      },
      "file_extension": ".py",
      "mimetype": "text/x-python",
      "name": "python",
      "nbconvert_exporter": "python",
      "pygments_lexer": "ipython3",
      "version": "3.7.4"
    }
  },
  "cells": [
    {
      "cell_type": "code",
      "metadata": {
        "id": "Ffmwpww7X_Op"
      },
      "source": [
        "!pip install google-cloud-vision"
      ],
      "execution_count": null,
      "outputs": []
    },
    {
      "cell_type": "code",
      "metadata": {
        "id": "pTm0GmI4YU1V"
      },
      "source": [
        "from google.colab import files\n",
        "files.upload()"
      ],
      "execution_count": null,
      "outputs": []
    },
    {
      "cell_type": "code",
      "metadata": {
        "id": "JcAUZKfMB1YF"
      },
      "source": [
        "path = r'/content/starter.jpg'"
      ],
      "execution_count": null,
      "outputs": []
    },
    {
      "cell_type": "code",
      "metadata": {
        "id": "mt2pDnaaYDHM"
      },
      "source": [
        "import os, io\n",
        "from google.cloud import vision\n",
        "#from google.cloud.vision import types\n",
        "from google.cloud.vision_v1 import types\n",
        "\n",
        "os.environ['GOOGLE_APPLICATION_CREDENTIALS'] = r'service-account.json'\n",
        "\n",
        "def starter(path):\n",
        "\n",
        "    client = vision.ImageAnnotatorClient()\n",
        " \n",
        "    if path.startswith('http') or path.startswith('gs:'):\n",
        "        image = types.Image()\n",
        "        image.source.image_uri = path\n",
        "    else:\n",
        "        with io.open(path, 'rb') as image_file:\n",
        "            content = image_file.read()\n",
        "        image = types.Image(content=content)\n",
        " \n",
        "    result = client.text_detection(image=image).text_annotations\n",
        " \n",
        "    return result\n",
        "\n",
        "def get_text(texts):\n",
        "\n",
        "    for text in texts:\n",
        "        print(text)\n",
        "\n",
        "def get_description(texts):\n",
        "\n",
        "  if not texts:\n",
        "    print('No text was found.')\n",
        "  else:\n",
        "    for text in texts:\n",
        "      print(text.description)\n",
        "        \n",
        "texts = starter(path)\n",
        "#texts\n",
        "get_description(texts)\n",
        "#get_text(texts)   "
      ],
      "execution_count": null,
      "outputs": []
    }
  ]
}