{
  "nbformat": 4,
  "nbformat_minor": 0,
  "metadata": {
    "colab": {
      "name": "Face Detection 31 May 2021.ipynb",
      "provenance": [],
      "collapsed_sections": [],
      "toc_visible": true
    },
    "kernelspec": {
      "name": "python3",
      "display_name": "Python 3"
    }
  },
  "cells": [
    {
      "cell_type": "markdown",
      "metadata": {
        "id": "K9oDyf8tbSXQ"
      },
      "source": [
        "# Face Detection"
      ]
    },
    {
      "cell_type": "code",
      "metadata": {
        "id": "Ffmwpww7X_Op"
      },
      "source": [
        "!pip install google-cloud-vision"
      ],
      "execution_count": null,
      "outputs": []
    },
    {
      "cell_type": "code",
      "metadata": {
        "id": "pTm0GmI4YU1V"
      },
      "source": [
        "from google.colab import files\n",
        "files.upload()"
      ],
      "execution_count": null,
      "outputs": []
    },
    {
      "cell_type": "code",
      "metadata": {
        "id": "u0P4gr_NYzxj"
      },
      "source": [
        "!ls"
      ],
      "execution_count": null,
      "outputs": []
    },
    {
      "cell_type": "code",
      "metadata": {
        "id": "JcAUZKfMB1YF"
      },
      "source": [
        "path = r'face.jpg'"
      ],
      "execution_count": null,
      "outputs": []
    },
    {
      "cell_type": "code",
      "metadata": {
        "id": "mt2pDnaaYDHM"
      },
      "source": [
        "import os, io\n",
        "from google.cloud import vision\n",
        "from google.cloud.vision_v1 import types\n",
        "\n",
        "os.environ['GOOGLE_APPLICATION_CREDENTIALS'] = r'service-account.json'\n",
        "\n",
        "def starter(path):\n",
        "\n",
        "    client = vision.ImageAnnotatorClient()\n",
        " \n",
        "    if path.startswith('http') or path.startswith('gs:'):\n",
        "        image = types.Image()\n",
        "        image.source.image_uri = path\n",
        "    else:\n",
        "        with io.open(path, 'rb') as image_file:\n",
        "            content = image_file.read()\n",
        "        image = types.Image(content=content)\n",
        " \n",
        "    result = client.face_detection(image=image).face_annotations\n",
        " \n",
        "    return result\n"
      ],
      "execution_count": null,
      "outputs": []
    },
    {
      "cell_type": "code",
      "metadata": {
        "id": "fv5UlZqCZ40m"
      },
      "source": [
        "face = starter(path)\n",
        "face"
      ],
      "execution_count": null,
      "outputs": []
    },
    {
      "cell_type": "markdown",
      "metadata": {
        "id": "LK43Is19-nI7"
      },
      "source": [
        "## Face expressions"
      ]
    },
    {
      "cell_type": "code",
      "metadata": {
        "id": "Y6tIz1q9fnn1"
      },
      "source": [
        "# Names of likelihood from google.cloud.vision.enums\n",
        "likelihood_name = ('UNKNOWN', 'VERY_UNLIKELY', 'UNLIKELY', 'POSSIBLE',\n",
        "                       'LIKELY', 'VERY_LIKELY')"
      ],
      "execution_count": null,
      "outputs": []
    },
    {
      "cell_type": "code",
      "metadata": {
        "id": "FZVflSuPbgmt"
      },
      "source": [
        "for f in face:\n",
        "  print('Joy : {}'.format(likelihood_name[f.joy_likelihood]))\n",
        "  print('Sorrow : {}'.format(likelihood_name[f.sorrow_likelihood]))\n",
        "  print('Anger : {}'.format(likelihood_name[f.anger_likelihood]))\n",
        "  print('Surprise : {}'.format(likelihood_name[f.surprise_likelihood]))\n"
      ],
      "execution_count": null,
      "outputs": []
    },
    {
      "cell_type": "markdown",
      "metadata": {
        "id": "-AKNDlbG-8tL"
      },
      "source": [
        "## Co-ordinates for face"
      ]
    },
    {
      "cell_type": "code",
      "metadata": {
        "id": "yiNxf9-lYZy8"
      },
      "source": [
        "from PIL import Image, ImageDraw\n"
      ],
      "execution_count": null,
      "outputs": []
    },
    {
      "cell_type": "code",
      "metadata": {
        "id": "qkA8cNTDh1Gz"
      },
      "source": [
        "def helper_box(image, faces, output_filename):\n",
        "    \"\"\"Draws a polygon around the faces, then saves to output_filename.\n",
        "\n",
        "    Args:\n",
        "      image: a file containing the image with the faces.\n",
        "      faces: a list of faces found in the file. This should be in the format\n",
        "          returned by the Vision API.\n",
        "      output_filename: the name of the image file to be created, where the\n",
        "          faces have polygons drawn around them.\n",
        "    \"\"\"\n",
        "    im = Image.open(image)\n",
        "    draw = ImageDraw.Draw(im)\n",
        "    # Sepecify the font-family and the font-size\n",
        "    for face in faces:\n",
        "        box = [(vertex.x, vertex.y)\n",
        "               for vertex in face.bounding_poly.vertices]\n",
        "        draw.line(box + [box[0]], width=5, fill='#00ff00')\n",
        "        # Place the confidence value/score of the detected faces above the\n",
        "        # detection box in the output image\n",
        "        draw.text(((face.bounding_poly.vertices)[0].x,\n",
        "                   (face.bounding_poly.vertices)[0].y - 30),\n",
        "                  str(format(face.detection_confidence, '.3f')) + '%',\n",
        "                  fill='#FF0000')\n",
        "    im.save(output_filename)"
      ],
      "execution_count": null,
      "outputs": []
    },
    {
      "cell_type": "code",
      "metadata": {
        "id": "1xGMQ_SqbjTq"
      },
      "source": [
        "face"
      ],
      "execution_count": null,
      "outputs": []
    },
    {
      "cell_type": "code",
      "metadata": {
        "id": "4V-XGlwybjQu"
      },
      "source": [
        "box = [(vertex.x, vertex.y)  for vertex in f.bounding_poly.vertices for f in face]\n",
        "box"
      ],
      "execution_count": null,
      "outputs": []
    },
    {
      "cell_type": "code",
      "metadata": {
        "id": "1kG6-i1IbjOT"
      },
      "source": [
        "helper_box(path,face,'facebox.jpg')"
      ],
      "execution_count": null,
      "outputs": []
    },
    {
      "cell_type": "code",
      "metadata": {
        "id": "3fSCORdSbjLm"
      },
      "source": [
        "!ls"
      ],
      "execution_count": null,
      "outputs": []
    },
    {
      "cell_type": "code",
      "metadata": {
        "id": "dLr6gaXtbjGS"
      },
      "source": [
        "from google.colab import files\n",
        "files.download('facebox.jpg')"
      ],
      "execution_count": null,
      "outputs": []
    },
    {
      "cell_type": "code",
      "metadata": {
        "id": "pke9FOorbjD3"
      },
      "source": [
        ""
      ],
      "execution_count": null,
      "outputs": []
    },
    {
      "cell_type": "code",
      "metadata": {
        "id": "AY0sRx7Rbi-f"
      },
      "source": [
        ""
      ],
      "execution_count": null,
      "outputs": []
    },
    {
      "cell_type": "code",
      "metadata": {
        "id": "_H6tUTm6iv8j"
      },
      "source": [
        ""
      ],
      "execution_count": null,
      "outputs": []
    }
  ]
}